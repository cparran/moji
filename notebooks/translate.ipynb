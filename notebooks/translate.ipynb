{
 "cells": [
  {
   "cell_type": "markdown",
   "metadata": {},
   "source": [
    "# Traductor de texto japonés a español"
   ]
  },
  {
   "cell_type": "code",
   "execution_count": null,
   "metadata": {},
   "outputs": [],
   "source": [
    "# Install the transformers library from HuggingFace\n",
    "#! pip install transformers torch pytesseract"
   ]
  },
  {
   "cell_type": "code",
   "execution_count": null,
   "metadata": {},
   "outputs": [],
   "source": [
    "# Install the sentencepiece and sacremoses libraries to tokenize the text\n",
    "#! pip install sentencepiece sacremoses"
   ]
  },
  {
   "cell_type": "code",
   "execution_count": 4,
   "metadata": {},
   "outputs": [
    {
     "name": "stdout",
     "output_type": "stream",
     "text": [
      "Requirement already satisfied: python-dotenv in /home/carol/.pyenv/versions/3.10.6/envs/moji/lib/python3.10/site-packages (1.0.1)\n"
     ]
    }
   ],
   "source": [
    "# ! pip install python-dotenv"
   ]
  },
  {
   "cell_type": "code",
   "execution_count": 1,
   "metadata": {},
   "outputs": [
    {
     "name": "stdout",
     "output_type": "stream",
     "text": [
      "Requirement already satisfied: deep-translator in /home/carol/.pyenv/versions/3.10.6/envs/moji/lib/python3.10/site-packages (1.11.4)\n",
      "Requirement already satisfied: beautifulsoup4<5.0.0,>=4.9.1 in /home/carol/.pyenv/versions/3.10.6/envs/moji/lib/python3.10/site-packages (from deep-translator) (4.12.3)\n",
      "Requirement already satisfied: requests<3.0.0,>=2.23.0 in /home/carol/.pyenv/versions/3.10.6/envs/moji/lib/python3.10/site-packages (from deep-translator) (2.31.0)\n",
      "Requirement already satisfied: soupsieve>1.2 in /home/carol/.pyenv/versions/3.10.6/envs/moji/lib/python3.10/site-packages (from beautifulsoup4<5.0.0,>=4.9.1->deep-translator) (2.5)\n",
      "Requirement already satisfied: charset-normalizer<4,>=2 in /home/carol/.pyenv/versions/3.10.6/envs/moji/lib/python3.10/site-packages (from requests<3.0.0,>=2.23.0->deep-translator) (3.3.2)\n",
      "Requirement already satisfied: idna<4,>=2.5 in /home/carol/.pyenv/versions/3.10.6/envs/moji/lib/python3.10/site-packages (from requests<3.0.0,>=2.23.0->deep-translator) (2.10)\n",
      "Requirement already satisfied: urllib3<3,>=1.21.1 in /home/carol/.pyenv/versions/3.10.6/envs/moji/lib/python3.10/site-packages (from requests<3.0.0,>=2.23.0->deep-translator) (1.26.18)\n",
      "Requirement already satisfied: certifi>=2017.4.17 in /home/carol/.pyenv/versions/3.10.6/envs/moji/lib/python3.10/site-packages (from requests<3.0.0,>=2.23.0->deep-translator) (2023.7.22)\n"
     ]
    }
   ],
   "source": [
    "# Install deep-translator to translate the text\n",
    "! pip install deep-translator"
   ]
  },
  {
   "cell_type": "markdown",
   "metadata": {},
   "source": [
    "# Google translate"
   ]
  },
  {
   "cell_type": "code",
   "execution_count": null,
   "metadata": {},
   "outputs": [],
   "source": [
    "from xml.etree import ElementTree as ET\n",
    "from deep_translator import GoogleTranslator\n",
    "import os\n",
    "import html  # Importa la biblioteca html\n",
    "\n",
    "# Inicializa el traductor de Google del japonés al español\n",
    "traductor = GoogleTranslator(source='ja', target='es')\n",
    "\n",
    "# Cargar el archivo XML\n",
    "xml_path = '/home/carol/code/cparran/MOJI/raw_data/ARMS/ARMS_lite.xml'  # Asegúrate de especificar la ruta correcta al archivo XML\n",
    "tree = ET.parse(xml_path)\n",
    "root = tree.getroot()\n",
    "\n",
    "# Obtener el nombre del archivo original sin la extensión\n",
    "file_name = os.path.splitext(os.path.basename(xml_path))[0]\n",
    "\n",
    "# Iterar sobre cada elemento 'text'\n",
    "for text_element in root.findall('.//text'):\n",
    "    # Extraer el texto japonés\n",
    "    japanese_text = text_element.text.strip()\n",
    "    \n",
    "    # Verificar que el texto no esté vacío antes de traducir\n",
    "    if japanese_text:\n",
    "        # Traduce el texto extraído al español\n",
    "        translated_text = traductor.translate(japanese_text)\n",
    "        \n",
    "        # Verifica que translated_text no sea None antes de decodificar las entidades HTML\n",
    "        if translated_text:\n",
    "            # Decodificar las entidades HTML a caracteres normales\n",
    "            translated_text = html.unescape(translated_text)\n",
    "        else:\n",
    "            # Manejar el caso en que translated_text es None\n",
    "            # Por ejemplo, puedes optar por dejar el texto original o aplicar una etiqueta predeterminada\n",
    "            translated_text = \"Texto no disponible\"\n",
    "        \n",
    "        # Opción 1: Agregar el texto traducido como un nuevo atributo\n",
    "        text_element.set('translated_text', translated_text)\n",
    "        \n",
    "        # Opción 2 (Alternativa): Crear y agregar un nuevo elemento hijo con el texto traducido\n",
    "        # Si prefieres esta opción, descomenta las siguientes dos líneas:\n",
    "        # new_element = ET.SubElement(text_element, \"translatedText\")\n",
    "        # new_element.text = translated_text\n",
    "\n",
    "# Generar el nombre del archivo de salida con el sufijo \"-es\"\n",
    "output_file_name = f\"{file_name}-es.xml\"\n",
    "\n",
    "# Guardar el archivo XML modificado, asegurándose de usar utf-8 como la codificación\n",
    "tree.write(output_file_name, encoding=\"utf-8\", xml_declaration=True)"
   ]
  },
  {
   "cell_type": "code",
   "execution_count": null,
   "metadata": {},
   "outputs": [],
   "source": [
    "# LLama a la función traducir_archivo_xml\n",
    "\n",
    "from traductor_xml import traducir_archivo_xml()\n",
    "\n",
    "xml_input_path = '/home/carol/code/cparran/MOJI/raw_data/ARMS/ARMS_lite.xml'\n",
    "traducir_archivo_xml(xml_input_path)"
   ]
  },
  {
   "cell_type": "markdown",
   "metadata": {},
   "source": [
    "# Deepl Translator\n",
    "\n",
    "Es más confiable"
   ]
  },
  {
   "cell_type": "code",
   "execution_count": null,
   "metadata": {},
   "outputs": [],
   "source": [
    "from concurrent.futures import ThreadPoolExecutor\n",
    "from xml.etree import ElementTree as ET\n",
    "import html\n",
    "import os\n",
    "from deep_translator import DeeplTranslator\n",
    "\n",
    "# Asume que esta función se define en tu entorno con la clave API configurada\n",
    "traductor = DeeplTranslator(api_key=\"52869b3f-cf74-420c-8994-b697d207234e:fx\", source=\"ja\", target=\"es\", use_free_api=True)\n",
    "\n",
    "def traducir_texto(texto):\n",
    "    traduccion = traductor.translate(texto)\n",
    "    return html.unescape(traduccion)\n",
    "\n",
    "def traducir_archivo_xml_concurrente(xml_path, carpeta_destino):\n",
    "    tree = ET.parse(xml_path)\n",
    "    root = tree.getroot()\n",
    "\n",
    "    textos_para_traducir = [elem.text.strip() for elem in root.findall('.//text') if elem.text and elem.text.strip()]\n",
    "\n",
    "    # Usar ThreadPoolExecutor para traducir en paralelo\n",
    "    with ThreadPoolExecutor(max_workers=10) as executor:\n",
    "        resultados = list(executor.map(traducir_texto, textos_para_traducir))\n",
    "    \n",
    "    for elem, traduccion in zip(root.findall('.//text'), resultados):\n",
    "        if traduccion:\n",
    "            elem.set('translated_text', traduccion)\n",
    "    \n",
    "    # Construye la ruta del archivo de salida usando la carpeta destino especificada\n",
    "    file_name = os.path.splitext(os.path.basename(xml_path))[0]\n",
    "    output_file_name = os.path.join(carpeta_destino, f\"{file_name}-es.xml\")\n",
    "    \n",
    "    # Guarda el archivo XML traducido\n",
    "    tree.write(output_file_name, encoding=\"utf-8\", xml_declaration=True)\n",
    "    print(f\"Archivo traducido guardado en: {output_file_name}\")\n",
    "\n",
    "# Ejemplo de cómo llamar a la función\n",
    "xml_input_path = '/home/carol/code/cparran/MOJI/raw_data/ARMS/ARMS_lite.xml'\n",
    "carpeta_destino = '/home/carol/code/cparran/MOJI/raw_data/output'\n",
    "traducir_archivo_xml_concurrente(xml_input_path, carpeta_destino)\n"
   ]
  },
  {
   "cell_type": "markdown",
   "metadata": {},
   "source": [
    "# DeepL Translator (más rápido)"
   ]
  },
  {
   "cell_type": "markdown",
   "metadata": {},
   "source": [
    "Sin eliminar definiciones"
   ]
  },
  {
   "cell_type": "code",
   "execution_count": null,
   "metadata": {},
   "outputs": [],
   "source": [
    "# from xml.etree import ElementTree as ET\n",
    "# from deep_translator import DeeplTranslator\n",
    "# import os\n",
    "# import html\n",
    "# from concurrent.futures import ThreadPoolExecutor\n",
    "\n",
    "# # Asume que esta función se define en tu entorno con la clave API configurada\n",
    "# api_key = \"52869b3f-cf74-420c-8994-b697d207234e:fx\"  # Reemplaza con tu clave de API real\n",
    "# traductor = DeeplTranslator(api_key=api_key, source=\"ja\", target=\"es\", use_free_api=True)\n",
    "\n",
    "# def traducir_texto(texto):\n",
    "#     if texto:\n",
    "#         traduccion = traductor.translate(texto)\n",
    "#         return html.unescape(traduccion)\n",
    "#     return \"\"\n",
    "\n",
    "# def traducir_archivo_xml_concurrente(xml_path, output_folder):\n",
    "#     tree = ET.parse(xml_path)\n",
    "#     root = tree.getroot()\n",
    "\n",
    "#     # Preparar los textos para traducción\n",
    "#     textos_para_traducir = [(elem, elem.text.strip()) for elem in root.findall('.//text') if elem.text and elem.text.strip()]\n",
    "    \n",
    "#     # Utilizar ThreadPoolExecutor para traducir en paralelo\n",
    "#     with ThreadPoolExecutor(max_workers=20) as executor:\n",
    "#         # Mapear textos a la función de traducción y actualizar elementos XML con traducciones\n",
    "#         for elem, traduccion in zip(textos_para_traducir, executor.map(lambda x: traducir_texto(x[1]), textos_para_traducir)):\n",
    "#             elem[0].set('translated_text', traduccion)\n",
    "    \n",
    "#     # Construye el nombre del archivo de salida y guarda el archivo XML traducido\n",
    "#     file_name = os.path.splitext(os.path.basename(xml_path))[0] + \"-es.xml\"\n",
    "#     output_file_path = os.path.join(output_folder, file_name)\n",
    "#     tree.write(output_file_path, encoding=\"utf-8\", xml_declaration=True)\n",
    "#     print(f\"Archivo traducido guardado en: {output_file_path}\")\n",
    "\n",
    "# # Uso del código\n",
    "# xml_input_path = '/home/carol/code/cparran/MOJI/raw_data/ARMS/ARMS_lite.xml'\n",
    "# output_folder = '/home/carol/code/cparran/MOJI/raw_data/output'  # Asegúrate de especificar la carpeta de destino correcta\n",
    "# traducir_archivo_xml_concurrente(xml_input_path, output_folder)\n"
   ]
  },
  {
   "cell_type": "markdown",
   "metadata": {},
   "source": [
    "Elimina las explicaciones"
   ]
  },
  {
   "cell_type": "code",
   "execution_count": 31,
   "metadata": {},
   "outputs": [
    {
     "name": "stdout",
     "output_type": "stream",
     "text": [
      "Archivo traducido guardado en: /home/carol/code/cparran/MOJI/raw_data/output/ARMS_lite-es.xml\n"
     ]
    }
   ],
   "source": [
    "from xml.etree import ElementTree as ET\n",
    "from deep_translator import DeeplTranslator\n",
    "import os\n",
    "import html\n",
    "from dotenv import load_dotenv\n",
    "from concurrent.futures import ThreadPoolExecutor\n",
    "import re\n",
    "\n",
    "# Cargar las variables de entorno desde el archivo .env\n",
    "load_dotenv()\n",
    "\n",
    "# Obtener la clave API de DeepL desde las variables de entorno\n",
    "api_key = os.getenv(\"DEEPL_API_KEY\")\n",
    "\n",
    "# Asume que esta función se define en tu entorno con la clave API configurada\n",
    "api_key = api_key  # Asegúrate de manejar tus claves API de manera segura\n",
    "traductor = DeeplTranslator(api_key=api_key, source=\"ja\", target=\"es\", use_free_api=True)\n",
    "\n",
    "def eliminar_explicaciones(texto):\n",
    "    # Eliminar texto dentro de paréntesis, incluyendo los paréntesis mismos\n",
    "    texto_sin_explicaciones = re.sub(r'\\([^)]*\\)', '', texto)\n",
    "    # Agregar más reglas de limpieza aquí si es necesario\n",
    "    return texto_sin_explicaciones.strip()\n",
    "\n",
    "def traducir_texto(texto):\n",
    "    if texto:\n",
    "        traduccion = traductor.translate(texto)\n",
    "        traduccion_limpia = html.unescape(traduccion)\n",
    "        traduccion_final = eliminar_explicaciones(traduccion_limpia)\n",
    "        return traduccion_final\n",
    "    return \"\"\n",
    "\n",
    "def traducir_archivo_xml_concurrente(xml_path, output_folder):\n",
    "    tree = ET.parse(xml_path)\n",
    "    root = tree.getroot()\n",
    "\n",
    "    textos_para_traducir = [(elem, elem.text.strip()) for elem in root.findall('.//text') if elem.text and elem.text.strip()]\n",
    "    \n",
    "    with ThreadPoolExecutor(max_workers=20) as executor:\n",
    "        for elem, traduccion in zip(textos_para_traducir, executor.map(lambda x: traducir_texto(x[1]), textos_para_traducir)):\n",
    "            elem[0].set('translated_text', traduccion)\n",
    "    \n",
    "    file_name = os.path.splitext(os.path.basename(xml_path))[0] + \"-es.xml\"\n",
    "    output_file_path = os.path.join(output_folder, file_name)\n",
    "    tree.write(output_file_path, encoding=\"utf-8\", xml_declaration=True)\n",
    "    print(f\"Archivo traducido guardado en: {output_file_path}\")\n",
    "\n",
    "xml_input_path = '/home/carol/code/cparran/MOJI/raw_data/ARMS/ARMS_lite.xml'\n",
    "output_folder = '/home/carol/code/cparran/MOJI/raw_data/output'\n",
    "traducir_archivo_xml_concurrente(xml_input_path, output_folder)\n"
   ]
  },
  {
   "cell_type": "markdown",
   "metadata": {},
   "source": [
    "# OPEN AI Translator"
   ]
  },
  {
   "cell_type": "code",
   "execution_count": 59,
   "metadata": {},
   "outputs": [
    {
     "name": "stdout",
     "output_type": "stream",
     "text": [
      "Collecting deep-translator==1.9.0\n",
      "  Downloading deep_translator-1.9.0-py3-none-any.whl.metadata (25 kB)\n",
      "Requirement already satisfied: beautifulsoup4<5.0.0,>=4.9.1 in /home/carol/.pyenv/versions/3.10.6/envs/moji/lib/python3.10/site-packages (from deep-translator==1.9.0) (4.12.3)\n",
      "Requirement already satisfied: requests<3.0.0,>=2.23.0 in /home/carol/.pyenv/versions/3.10.6/envs/moji/lib/python3.10/site-packages (from deep-translator==1.9.0) (2.31.0)\n",
      "Requirement already satisfied: soupsieve>1.2 in /home/carol/.pyenv/versions/3.10.6/envs/moji/lib/python3.10/site-packages (from beautifulsoup4<5.0.0,>=4.9.1->deep-translator==1.9.0) (2.5)\n",
      "Requirement already satisfied: charset-normalizer<4,>=2 in /home/carol/.pyenv/versions/3.10.6/envs/moji/lib/python3.10/site-packages (from requests<3.0.0,>=2.23.0->deep-translator==1.9.0) (3.3.2)\n",
      "Requirement already satisfied: idna<4,>=2.5 in /home/carol/.pyenv/versions/3.10.6/envs/moji/lib/python3.10/site-packages (from requests<3.0.0,>=2.23.0->deep-translator==1.9.0) (2.10)\n",
      "Requirement already satisfied: urllib3<3,>=1.21.1 in /home/carol/.pyenv/versions/3.10.6/envs/moji/lib/python3.10/site-packages (from requests<3.0.0,>=2.23.0->deep-translator==1.9.0) (1.26.18)\n",
      "Requirement already satisfied: certifi>=2017.4.17 in /home/carol/.pyenv/versions/3.10.6/envs/moji/lib/python3.10/site-packages (from requests<3.0.0,>=2.23.0->deep-translator==1.9.0) (2023.7.22)\n",
      "Downloading deep_translator-1.9.0-py3-none-any.whl (29 kB)\n",
      "Installing collected packages: deep-translator\n",
      "  Attempting uninstall: deep-translator\n",
      "    Found existing installation: deep-translator 1.11.4\n",
      "    Uninstalling deep-translator-1.11.4:\n",
      "      Successfully uninstalled deep-translator-1.11.4\n",
      "Successfully installed deep-translator-1.9.0\n"
     ]
    }
   ],
   "source": [
    "#! pip install openai==0.27.0\n",
    "! pip install deep-translator==1.9.0"
   ]
  },
  {
   "cell_type": "code",
   "execution_count": 64,
   "metadata": {},
   "outputs": [
    {
     "ename": "APIRemovedInV1",
     "evalue": "\n\nYou tried to access openai.Completion, but this is no longer supported in openai>=1.0.0 - see the README at https://github.com/openai/openai-python for the API.\n\nYou can run `openai migrate` to automatically upgrade your codebase to use the 1.0.0 interface. \n\nAlternatively, you can pin your installation to the old version, e.g. `pip install openai==0.28`\n\nA detailed migration guide is available here: https://github.com/openai/openai-python/discussions/742\n",
     "output_type": "error",
     "traceback": [
      "\u001b[0;31m---------------------------------------------------------------------------\u001b[0m",
      "\u001b[0;31mAPIRemovedInV1\u001b[0m                            Traceback (most recent call last)",
      "Cell \u001b[0;32mIn[64], line 55\u001b[0m\n\u001b[1;32m     53\u001b[0m xml_input_path \u001b[38;5;241m=\u001b[39m \u001b[38;5;124m'\u001b[39m\u001b[38;5;124m/home/carol/code/cparran/MOJI/raw_data/ARMS/ARMS_lite.xml\u001b[39m\u001b[38;5;124m'\u001b[39m\n\u001b[1;32m     54\u001b[0m output_folder \u001b[38;5;241m=\u001b[39m \u001b[38;5;124m'\u001b[39m\u001b[38;5;124m/home/carol/code/cparran/MOJI/raw_data/output\u001b[39m\u001b[38;5;124m'\u001b[39m\n\u001b[0;32m---> 55\u001b[0m \u001b[43mtraducir_archivo_xml_concurrente\u001b[49m\u001b[43m(\u001b[49m\u001b[43mxml_input_path\u001b[49m\u001b[43m,\u001b[49m\u001b[43m \u001b[49m\u001b[43moutput_folder\u001b[49m\u001b[43m)\u001b[49m\n",
      "Cell \u001b[0;32mIn[64], line 45\u001b[0m, in \u001b[0;36mtraducir_archivo_xml_concurrente\u001b[0;34m(xml_path, output_folder)\u001b[0m\n\u001b[1;32m     42\u001b[0m textos_para_traducir \u001b[38;5;241m=\u001b[39m [(elem, elem\u001b[38;5;241m.\u001b[39mtext\u001b[38;5;241m.\u001b[39mstrip()) \u001b[38;5;28;01mfor\u001b[39;00m elem \u001b[38;5;129;01min\u001b[39;00m root\u001b[38;5;241m.\u001b[39mfindall(\u001b[38;5;124m'\u001b[39m\u001b[38;5;124m.//text\u001b[39m\u001b[38;5;124m'\u001b[39m) \u001b[38;5;28;01mif\u001b[39;00m elem\u001b[38;5;241m.\u001b[39mtext \u001b[38;5;129;01mand\u001b[39;00m elem\u001b[38;5;241m.\u001b[39mtext\u001b[38;5;241m.\u001b[39mstrip()]\n\u001b[1;32m     44\u001b[0m \u001b[38;5;28;01mwith\u001b[39;00m ThreadPoolExecutor(max_workers\u001b[38;5;241m=\u001b[39m\u001b[38;5;241m20\u001b[39m) \u001b[38;5;28;01mas\u001b[39;00m executor:\n\u001b[0;32m---> 45\u001b[0m     \u001b[38;5;28;01mfor\u001b[39;00m elem, traduccion \u001b[38;5;129;01min\u001b[39;00m \u001b[38;5;28mzip\u001b[39m(textos_para_traducir, executor\u001b[38;5;241m.\u001b[39mmap(\u001b[38;5;28;01mlambda\u001b[39;00m x: traducir_texto(x[\u001b[38;5;241m1\u001b[39m]), textos_para_traducir)):\n\u001b[1;32m     46\u001b[0m         elem[\u001b[38;5;241m0\u001b[39m]\u001b[38;5;241m.\u001b[39mset(\u001b[38;5;124m'\u001b[39m\u001b[38;5;124mtranslated_text\u001b[39m\u001b[38;5;124m'\u001b[39m, traduccion)\n\u001b[1;32m     48\u001b[0m file_name \u001b[38;5;241m=\u001b[39m os\u001b[38;5;241m.\u001b[39mpath\u001b[38;5;241m.\u001b[39msplitext(os\u001b[38;5;241m.\u001b[39mpath\u001b[38;5;241m.\u001b[39mbasename(xml_path))[\u001b[38;5;241m0\u001b[39m] \u001b[38;5;241m+\u001b[39m \u001b[38;5;124m\"\u001b[39m\u001b[38;5;124m-es.xml\u001b[39m\u001b[38;5;124m\"\u001b[39m\n",
      "File \u001b[0;32m~/.pyenv/versions/3.10.6/lib/python3.10/concurrent/futures/_base.py:621\u001b[0m, in \u001b[0;36mExecutor.map.<locals>.result_iterator\u001b[0;34m()\u001b[0m\n\u001b[1;32m    618\u001b[0m \u001b[38;5;28;01mwhile\u001b[39;00m fs:\n\u001b[1;32m    619\u001b[0m     \u001b[38;5;66;03m# Careful not to keep a reference to the popped future\u001b[39;00m\n\u001b[1;32m    620\u001b[0m     \u001b[38;5;28;01mif\u001b[39;00m timeout \u001b[38;5;129;01mis\u001b[39;00m \u001b[38;5;28;01mNone\u001b[39;00m:\n\u001b[0;32m--> 621\u001b[0m         \u001b[38;5;28;01myield\u001b[39;00m \u001b[43m_result_or_cancel\u001b[49m\u001b[43m(\u001b[49m\u001b[43mfs\u001b[49m\u001b[38;5;241;43m.\u001b[39;49m\u001b[43mpop\u001b[49m\u001b[43m(\u001b[49m\u001b[43m)\u001b[49m\u001b[43m)\u001b[49m\n\u001b[1;32m    622\u001b[0m     \u001b[38;5;28;01melse\u001b[39;00m:\n\u001b[1;32m    623\u001b[0m         \u001b[38;5;28;01myield\u001b[39;00m _result_or_cancel(fs\u001b[38;5;241m.\u001b[39mpop(), end_time \u001b[38;5;241m-\u001b[39m time\u001b[38;5;241m.\u001b[39mmonotonic())\n",
      "File \u001b[0;32m~/.pyenv/versions/3.10.6/lib/python3.10/concurrent/futures/_base.py:319\u001b[0m, in \u001b[0;36m_result_or_cancel\u001b[0;34m(***failed resolving arguments***)\u001b[0m\n\u001b[1;32m    317\u001b[0m \u001b[38;5;28;01mtry\u001b[39;00m:\n\u001b[1;32m    318\u001b[0m     \u001b[38;5;28;01mtry\u001b[39;00m:\n\u001b[0;32m--> 319\u001b[0m         \u001b[38;5;28;01mreturn\u001b[39;00m \u001b[43mfut\u001b[49m\u001b[38;5;241;43m.\u001b[39;49m\u001b[43mresult\u001b[49m\u001b[43m(\u001b[49m\u001b[43mtimeout\u001b[49m\u001b[43m)\u001b[49m\n\u001b[1;32m    320\u001b[0m     \u001b[38;5;28;01mfinally\u001b[39;00m:\n\u001b[1;32m    321\u001b[0m         fut\u001b[38;5;241m.\u001b[39mcancel()\n",
      "File \u001b[0;32m~/.pyenv/versions/3.10.6/lib/python3.10/concurrent/futures/_base.py:451\u001b[0m, in \u001b[0;36mFuture.result\u001b[0;34m(self, timeout)\u001b[0m\n\u001b[1;32m    449\u001b[0m     \u001b[38;5;28;01mraise\u001b[39;00m CancelledError()\n\u001b[1;32m    450\u001b[0m \u001b[38;5;28;01melif\u001b[39;00m \u001b[38;5;28mself\u001b[39m\u001b[38;5;241m.\u001b[39m_state \u001b[38;5;241m==\u001b[39m FINISHED:\n\u001b[0;32m--> 451\u001b[0m     \u001b[38;5;28;01mreturn\u001b[39;00m \u001b[38;5;28;43mself\u001b[39;49m\u001b[38;5;241;43m.\u001b[39;49m\u001b[43m__get_result\u001b[49m\u001b[43m(\u001b[49m\u001b[43m)\u001b[49m\n\u001b[1;32m    453\u001b[0m \u001b[38;5;28mself\u001b[39m\u001b[38;5;241m.\u001b[39m_condition\u001b[38;5;241m.\u001b[39mwait(timeout)\n\u001b[1;32m    455\u001b[0m \u001b[38;5;28;01mif\u001b[39;00m \u001b[38;5;28mself\u001b[39m\u001b[38;5;241m.\u001b[39m_state \u001b[38;5;129;01min\u001b[39;00m [CANCELLED, CANCELLED_AND_NOTIFIED]:\n",
      "File \u001b[0;32m~/.pyenv/versions/3.10.6/lib/python3.10/concurrent/futures/_base.py:403\u001b[0m, in \u001b[0;36mFuture.__get_result\u001b[0;34m(self)\u001b[0m\n\u001b[1;32m    401\u001b[0m \u001b[38;5;28;01mif\u001b[39;00m \u001b[38;5;28mself\u001b[39m\u001b[38;5;241m.\u001b[39m_exception:\n\u001b[1;32m    402\u001b[0m     \u001b[38;5;28;01mtry\u001b[39;00m:\n\u001b[0;32m--> 403\u001b[0m         \u001b[38;5;28;01mraise\u001b[39;00m \u001b[38;5;28mself\u001b[39m\u001b[38;5;241m.\u001b[39m_exception\n\u001b[1;32m    404\u001b[0m     \u001b[38;5;28;01mfinally\u001b[39;00m:\n\u001b[1;32m    405\u001b[0m         \u001b[38;5;66;03m# Break a reference cycle with the exception in self._exception\u001b[39;00m\n\u001b[1;32m    406\u001b[0m         \u001b[38;5;28mself\u001b[39m \u001b[38;5;241m=\u001b[39m \u001b[38;5;28;01mNone\u001b[39;00m\n",
      "File \u001b[0;32m~/.pyenv/versions/3.10.6/lib/python3.10/concurrent/futures/thread.py:58\u001b[0m, in \u001b[0;36m_WorkItem.run\u001b[0;34m(self)\u001b[0m\n\u001b[1;32m     55\u001b[0m     \u001b[38;5;28;01mreturn\u001b[39;00m\n\u001b[1;32m     57\u001b[0m \u001b[38;5;28;01mtry\u001b[39;00m:\n\u001b[0;32m---> 58\u001b[0m     result \u001b[38;5;241m=\u001b[39m \u001b[38;5;28;43mself\u001b[39;49m\u001b[38;5;241;43m.\u001b[39;49m\u001b[43mfn\u001b[49m\u001b[43m(\u001b[49m\u001b[38;5;241;43m*\u001b[39;49m\u001b[38;5;28;43mself\u001b[39;49m\u001b[38;5;241;43m.\u001b[39;49m\u001b[43margs\u001b[49m\u001b[43m,\u001b[49m\u001b[43m \u001b[49m\u001b[38;5;241;43m*\u001b[39;49m\u001b[38;5;241;43m*\u001b[39;49m\u001b[38;5;28;43mself\u001b[39;49m\u001b[38;5;241;43m.\u001b[39;49m\u001b[43mkwargs\u001b[49m\u001b[43m)\u001b[49m\n\u001b[1;32m     59\u001b[0m \u001b[38;5;28;01mexcept\u001b[39;00m \u001b[38;5;167;01mBaseException\u001b[39;00m \u001b[38;5;28;01mas\u001b[39;00m exc:\n\u001b[1;32m     60\u001b[0m     \u001b[38;5;28mself\u001b[39m\u001b[38;5;241m.\u001b[39mfuture\u001b[38;5;241m.\u001b[39mset_exception(exc)\n",
      "Cell \u001b[0;32mIn[64], line 45\u001b[0m, in \u001b[0;36mtraducir_archivo_xml_concurrente.<locals>.<lambda>\u001b[0;34m(x)\u001b[0m\n\u001b[1;32m     42\u001b[0m textos_para_traducir \u001b[38;5;241m=\u001b[39m [(elem, elem\u001b[38;5;241m.\u001b[39mtext\u001b[38;5;241m.\u001b[39mstrip()) \u001b[38;5;28;01mfor\u001b[39;00m elem \u001b[38;5;129;01min\u001b[39;00m root\u001b[38;5;241m.\u001b[39mfindall(\u001b[38;5;124m'\u001b[39m\u001b[38;5;124m.//text\u001b[39m\u001b[38;5;124m'\u001b[39m) \u001b[38;5;28;01mif\u001b[39;00m elem\u001b[38;5;241m.\u001b[39mtext \u001b[38;5;129;01mand\u001b[39;00m elem\u001b[38;5;241m.\u001b[39mtext\u001b[38;5;241m.\u001b[39mstrip()]\n\u001b[1;32m     44\u001b[0m \u001b[38;5;28;01mwith\u001b[39;00m ThreadPoolExecutor(max_workers\u001b[38;5;241m=\u001b[39m\u001b[38;5;241m20\u001b[39m) \u001b[38;5;28;01mas\u001b[39;00m executor:\n\u001b[0;32m---> 45\u001b[0m     \u001b[38;5;28;01mfor\u001b[39;00m elem, traduccion \u001b[38;5;129;01min\u001b[39;00m \u001b[38;5;28mzip\u001b[39m(textos_para_traducir, executor\u001b[38;5;241m.\u001b[39mmap(\u001b[38;5;28;01mlambda\u001b[39;00m x: \u001b[43mtraducir_texto\u001b[49m\u001b[43m(\u001b[49m\u001b[43mx\u001b[49m\u001b[43m[\u001b[49m\u001b[38;5;241;43m1\u001b[39;49m\u001b[43m]\u001b[49m\u001b[43m)\u001b[49m, textos_para_traducir)):\n\u001b[1;32m     46\u001b[0m         elem[\u001b[38;5;241m0\u001b[39m]\u001b[38;5;241m.\u001b[39mset(\u001b[38;5;124m'\u001b[39m\u001b[38;5;124mtranslated_text\u001b[39m\u001b[38;5;124m'\u001b[39m, traduccion)\n\u001b[1;32m     48\u001b[0m file_name \u001b[38;5;241m=\u001b[39m os\u001b[38;5;241m.\u001b[39mpath\u001b[38;5;241m.\u001b[39msplitext(os\u001b[38;5;241m.\u001b[39mpath\u001b[38;5;241m.\u001b[39mbasename(xml_path))[\u001b[38;5;241m0\u001b[39m] \u001b[38;5;241m+\u001b[39m \u001b[38;5;124m\"\u001b[39m\u001b[38;5;124m-es.xml\u001b[39m\u001b[38;5;124m\"\u001b[39m\n",
      "Cell \u001b[0;32mIn[64], line 28\u001b[0m, in \u001b[0;36mtraducir_texto\u001b[0;34m(texto)\u001b[0m\n\u001b[1;32m     25\u001b[0m     \u001b[38;5;28;01mreturn\u001b[39;00m \u001b[38;5;124m\"\u001b[39m\u001b[38;5;124m\"\u001b[39m\n\u001b[1;32m     27\u001b[0m \u001b[38;5;66;03m# Traducción con GPT-3\u001b[39;00m\n\u001b[0;32m---> 28\u001b[0m traduccion \u001b[38;5;241m=\u001b[39m \u001b[43mopenai\u001b[49m\u001b[38;5;241;43m.\u001b[39;49m\u001b[43mCompletion\u001b[49m\u001b[38;5;241;43m.\u001b[39;49m\u001b[43mcreate\u001b[49m\u001b[43m(\u001b[49m\n\u001b[1;32m     29\u001b[0m \u001b[43m    \u001b[49m\u001b[43mengine\u001b[49m\u001b[38;5;241;43m=\u001b[39;49m\u001b[38;5;124;43m\"\u001b[39;49m\u001b[38;5;124;43mtext-davinci-002\u001b[39;49m\u001b[38;5;124;43m\"\u001b[39;49m\u001b[43m,\u001b[49m\n\u001b[1;32m     30\u001b[0m \u001b[43m    \u001b[49m\u001b[43mprompt\u001b[49m\u001b[38;5;241;43m=\u001b[39;49m\u001b[43mtexto\u001b[49m\u001b[43m,\u001b[49m\n\u001b[1;32m     31\u001b[0m \u001b[43m    \u001b[49m\u001b[43mmax_tokens\u001b[49m\u001b[38;5;241;43m=\u001b[39;49m\u001b[38;5;241;43m100\u001b[39;49m\n\u001b[1;32m     32\u001b[0m \u001b[43m\u001b[49m\u001b[43m)\u001b[49m[\u001b[38;5;124m'\u001b[39m\u001b[38;5;124mchoices\u001b[39m\u001b[38;5;124m'\u001b[39m][\u001b[38;5;241m0\u001b[39m][\u001b[38;5;124m'\u001b[39m\u001b[38;5;124mtext\u001b[39m\u001b[38;5;124m'\u001b[39m]\n\u001b[1;32m     34\u001b[0m traduccion_limpia \u001b[38;5;241m=\u001b[39m html\u001b[38;5;241m.\u001b[39munescape(traduccion)\n\u001b[1;32m     36\u001b[0m \u001b[38;5;28;01mreturn\u001b[39;00m eliminar_explicaciones(traduccion_limpia)\n",
      "File \u001b[0;32m~/.pyenv/versions/3.10.6/envs/moji/lib/python3.10/site-packages/openai/lib/_old_api.py:39\u001b[0m, in \u001b[0;36mAPIRemovedInV1Proxy.__call__\u001b[0;34m(self, *_args, **_kwargs)\u001b[0m\n\u001b[1;32m     38\u001b[0m \u001b[38;5;28;01mdef\u001b[39;00m \u001b[38;5;21m__call__\u001b[39m(\u001b[38;5;28mself\u001b[39m, \u001b[38;5;241m*\u001b[39m_args: Any, \u001b[38;5;241m*\u001b[39m\u001b[38;5;241m*\u001b[39m_kwargs: Any) \u001b[38;5;241m-\u001b[39m\u001b[38;5;241m>\u001b[39m Any:\n\u001b[0;32m---> 39\u001b[0m     \u001b[38;5;28;01mraise\u001b[39;00m APIRemovedInV1(symbol\u001b[38;5;241m=\u001b[39m\u001b[38;5;28mself\u001b[39m\u001b[38;5;241m.\u001b[39m_symbol)\n",
      "\u001b[0;31mAPIRemovedInV1\u001b[0m: \n\nYou tried to access openai.Completion, but this is no longer supported in openai>=1.0.0 - see the README at https://github.com/openai/openai-python for the API.\n\nYou can run `openai migrate` to automatically upgrade your codebase to use the 1.0.0 interface. \n\nAlternatively, you can pin your installation to the old version, e.g. `pip install openai==0.28`\n\nA detailed migration guide is available here: https://github.com/openai/openai-python/discussions/742\n"
     ]
    }
   ],
   "source": [
    "from xml.etree import ElementTree as ET\n",
    "import openai\n",
    "import os\n",
    "import html\n",
    "from dotenv import load_dotenv\n",
    "from concurrent.futures import ThreadPoolExecutor\n",
    "import re\n",
    "\n",
    "# Cargar las variables de entorno desde el archivo .env\n",
    "load_dotenv()\n",
    "\n",
    "# Obtener la clave API de OpenAI desde las variables de entorno\n",
    "openai_api_key = os.getenv(\"OPENAI_API_KEY\")\n",
    "\n",
    "# Configurar la API de OpenAI\n",
    "openai.api_key = openai_api_key\n",
    "\n",
    "def eliminar_explicaciones(texto):\n",
    "    # Eliminar texto dentro de paréntesis, incluyendo los paréntesis mismos\n",
    "    texto_sin_explicaciones = re.sub(r'\\([^)]*\\)', '', texto)\n",
    "    return texto_sin_explicaciones.strip()\n",
    "\n",
    "def traducir_texto(texto):\n",
    "    if not texto:\n",
    "        return \"\"\n",
    "\n",
    "    # Traducción con GPT-3\n",
    "    traduccion = openai.Completion.create(\n",
    "        engine=\"text-davinci-002\",\n",
    "        prompt=texto,\n",
    "        max_tokens=100\n",
    "    )['choices'][0]['text']\n",
    "    \n",
    "    traduccion_limpia = html.unescape(traduccion)\n",
    "    \n",
    "    return eliminar_explicaciones(traduccion_limpia)\n",
    "\n",
    "def traducir_archivo_xml_concurrente(xml_path, output_folder):\n",
    "    tree = ET.parse(xml_path)\n",
    "    root = tree.getroot()\n",
    "\n",
    "    textos_para_traducir = [(elem, elem.text.strip()) for elem in root.findall('.//text') if elem.text and elem.text.strip()]\n",
    "    \n",
    "    with ThreadPoolExecutor(max_workers=20) as executor:\n",
    "        for elem, traduccion in zip(textos_para_traducir, executor.map(lambda x: traducir_texto(x[1]), textos_para_traducir)):\n",
    "            elem[0].set('translated_text', traduccion)\n",
    "    \n",
    "    file_name = os.path.splitext(os.path.basename(xml_path))[0] + \"-es.xml\"\n",
    "    output_file_path = os.path.join(output_folder, file_name)\n",
    "    tree.write(output_file_path, encoding=\"utf-8\", xml_declaration=True)\n",
    "    print(f\"Archivo traducido guardado en: {output_file_path}\")\n",
    "\n",
    "xml_input_path = '/home/carol/code/cparran/MOJI/raw_data/ARMS/ARMS_lite.xml'\n",
    "output_folder = '/home/carol/code/cparran/MOJI/raw_data/output'\n",
    "traducir_archivo_xml_concurrente(xml_input_path, output_folder)\n"
   ]
  },
  {
   "cell_type": "markdown",
   "metadata": {},
   "source": [
    "# Combina Google Translate y DeepL"
   ]
  },
  {
   "cell_type": "code",
   "execution_count": 41,
   "metadata": {},
   "outputs": [
    {
     "name": "stdout",
     "output_type": "stream",
     "text": [
      "Archivo traducido guardado en: /home/carol/code/cparran/MOJI/raw_data/output/ARMS_lite-es.xml\n"
     ]
    }
   ],
   "source": [
    "from xml.etree import ElementTree as ET\n",
    "from deep_translator import GoogleTranslator, DeeplTranslator\n",
    "import os\n",
    "import html\n",
    "from dotenv import load_dotenv\n",
    "from concurrent.futures import ThreadPoolExecutor\n",
    "import re\n",
    "\n",
    "# Cargar las variables de entorno desde el archivo .env\n",
    "load_dotenv()\n",
    "\n",
    "# Obtener la clave API de DeepL desde las variables de entorno\n",
    "api_key = os.getenv(\"DEEPL_API_KEY\")\n",
    "\n",
    "def eliminar_explicaciones(texto):\n",
    "    # Eliminar texto dentro de paréntesis, incluyendo los paréntesis mismos\n",
    "    texto_sin_explicaciones = re.sub(r'\\([^)]*\\)', '', texto)\n",
    "    return texto_sin_explicaciones.strip()\n",
    "\n",
    "def traducir_texto(texto):\n",
    "    if not texto:\n",
    "        return \"\"\n",
    "    \n",
    "    # Traducción con Google Translator\n",
    "    traduccion_google = GoogleTranslator(source='ja', target='es').translate(texto)\n",
    "    traduccion_google_limpia = html.unescape(traduccion_google)\n",
    "\n",
    "    # Traducción con DeepL\n",
    "    traduccion_deepl_respuesta = DeeplTranslator(api_key=api_key, source=\"ja\", target=\"es\", use_free_api=True).translate(texto, return_all=True)\n",
    "    \n",
    "    # Manejar el caso en que la respuesta no es como se esperaba\n",
    "    if 'translations' in traduccion_deepl_respuesta and traduccion_deepl_respuesta['translations']:\n",
    "        traduccion_deepl_limpia = html.unescape(traduccion_deepl_respuesta['translations'][0]['text'])\n",
    "        \n",
    "        # Comparar las traducciones por la puntuación de confianza de DeepL y seleccionar la más alta\n",
    "        if 'confidence' in traduccion_deepl_respuesta['translations'][0] and traduccion_deepl_respuesta['translations'][0]['confidence'] > 0.5:\n",
    "            mejor_traduccion = traduccion_deepl_limpia\n",
    "        else:\n",
    "            mejor_traduccion = traduccion_google_limpia\n",
    "    else:\n",
    "        # En caso de una respuesta inesperada, utilizar la traducción de Google como fallback\n",
    "        mejor_traduccion = traduccion_google_limpia\n",
    "    \n",
    "    return eliminar_explicaciones(mejor_traduccion)\n",
    "\n",
    "def traducir_archivo_xml_concurrente(xml_path, output_folder):\n",
    "    tree = ET.parse(xml_path)\n",
    "    root = tree.getroot()\n",
    "\n",
    "    textos_para_traducir = [(elem, elem.text.strip()) for elem in root.findall('.//text') if elem.text and elem.text.strip()]\n",
    "    \n",
    "    with ThreadPoolExecutor(max_workers=20) as executor:\n",
    "        futures = [executor.submit(traducir_texto, texto[1]) for texto in textos_para_traducir]\n",
    "        for future, elem in zip(futures, textos_para_traducir):\n",
    "            elem[0].set('translated_text', future.result())\n",
    "    \n",
    "    file_name = os.path.splitext(os.path.basename(xml_path))[0] + \"-es.xml\"\n",
    "    output_file_path = os.path.join(output_folder, file_name)\n",
    "    tree.write(output_file_path, encoding=\"utf-8\", xml_declaration=True)\n",
    "    print(f\"Archivo traducido guardado en: {output_file_path}\")\n",
    "\n",
    "# Definir la ruta de entrada del archivo XML y la carpeta de salida\n",
    "xml_input_path = '/home/carol/code/cparran/MOJI/raw_data/ARMS/ARMS_lite.xml'\n",
    "output_folder = '/home/carol/code/cparran/MOJI/raw_data/output'\n",
    "\n",
    "# Ejecutar la función principal\n",
    "traducir_archivo_xml_concurrente(xml_input_path, output_folder)\n"
   ]
  },
  {
   "cell_type": "markdown",
   "metadata": {},
   "source": [
    "# Si la traducción de Google no es confiable, usa DeepL"
   ]
  },
  {
   "cell_type": "code",
   "execution_count": 51,
   "metadata": {},
   "outputs": [
    {
     "name": "stdout",
     "output_type": "stream",
     "text": [
      "Collecting langid\n",
      "  Downloading langid-1.1.6.tar.gz (1.9 MB)\n",
      "\u001b[2K     \u001b[90m━━━━━━━━━━━━━━━━━━━━━━━━━━━━━━━━━━━━━━━━\u001b[0m \u001b[32m1.9/1.9 MB\u001b[0m \u001b[31m4.0 MB/s\u001b[0m eta \u001b[36m0:00:00\u001b[0m00:01\u001b[0m00:01\u001b[0m\n",
      "\u001b[?25h  Preparing metadata (setup.py) ... \u001b[?25ldone\n",
      "\u001b[?25hRequirement already satisfied: numpy in /home/carol/.pyenv/versions/3.10.6/envs/moji/lib/python3.10/site-packages (from langid) (1.25.2)\n",
      "Building wheels for collected packages: langid\n",
      "  Building wheel for langid (setup.py) ... \u001b[?25ldone\n",
      "\u001b[?25h  Created wheel for langid: filename=langid-1.1.6-py3-none-any.whl size=1941172 sha256=06c0a80475046a718e24694b4ce85f018169337444ccb0eeff05bc007264a282\n",
      "  Stored in directory: /home/carol/.cache/pip/wheels/23/c8/c6/eed80894918490a175677414d40bd7c851413bbe03d4856c3c\n",
      "Successfully built langid\n",
      "Installing collected packages: langid\n",
      "Successfully installed langid-1.1.6\n"
     ]
    }
   ],
   "source": [
    "#! pip install langid"
   ]
  },
  {
   "cell_type": "code",
   "execution_count": 66,
   "metadata": {},
   "outputs": [
    {
     "name": "stdout",
     "output_type": "stream",
     "text": [
      "Archivo traducido guardado en: /home/carol/code/cparran/MOJI/raw_data/output/ARMS_lite-es.xml\n"
     ]
    }
   ],
   "source": [
    "from xml.etree import ElementTree as ET\n",
    "from deep_translator import GoogleTranslator, DeeplTranslator\n",
    "import os\n",
    "import html\n",
    "from dotenv import load_dotenv\n",
    "from concurrent.futures import ThreadPoolExecutor\n",
    "import re\n",
    "import langid\n",
    "\n",
    "# Cargar las variables de entorno desde el archivo .env\n",
    "load_dotenv()\n",
    "\n",
    "# Obtener la clave API de DeepL desde las variables de entorno\n",
    "api_key = os.getenv(\"DEEPL_API_KEY\")\n",
    "\n",
    "def eliminar_explicaciones(texto):\n",
    "    # Eliminar texto dentro de paréntesis, incluyendo los paréntesis mismos\n",
    "    texto_sin_explicaciones = re.sub(r'\\([^)]*\\)', '', texto)\n",
    "    return texto_sin_explicaciones.strip()\n",
    "\n",
    "def detectar_idioma(texto):\n",
    "    # Utilizar langid para detectar el idioma del texto\n",
    "    idioma, _ = langid.classify(texto)\n",
    "    return idioma\n",
    "\n",
    "def traducir_texto(texto):\n",
    "    if not texto:\n",
    "        return \"\"\n",
    "\n",
    "    # Detectar el idioma del texto\n",
    "    idioma = detectar_idioma(texto)\n",
    "\n",
    "    # Traducción con Google Translator si el idioma detectado es japonés (ja)\n",
    "    if idioma == 'ja':\n",
    "        traduccion_google = GoogleTranslator(source='ja', target='es').translate(texto)\n",
    "        return eliminar_explicaciones(html.unescape(traduccion_google))\n",
    "\n",
    "    # Traducción con DeepL para otros idiomas\n",
    "    traduccion_deepl_respuesta = DeeplTranslator(api_key=api_key, source=idioma, target=\"es\", use_free_api=True).translate(texto, return_all=True)\n",
    "    \n",
    "    if 'translations' in traduccion_deepl_respuesta and traduccion_deepl_respuesta['translations']:\n",
    "        traduccion_deepl_texto = traduccion_deepl_respuesta['translations'][0]['text']\n",
    "        return eliminar_explicaciones(html.unescape(traduccion_deepl_texto))\n",
    "    else:\n",
    "        # En caso de una respuesta inesperada, devolver el texto original\n",
    "        return texto\n",
    "\n",
    "def traducir_archivo_xml_concurrente(xml_path, output_folder):\n",
    "    tree = ET.parse(xml_path)\n",
    "    root = tree.getroot()\n",
    "\n",
    "    textos_para_traducir = [(elem, elem.text.strip()) for elem in root.findall('.//text') if elem.text and elem.text.strip()]\n",
    "    \n",
    "    with ThreadPoolExecutor(max_workers=20) as executor:\n",
    "        futures = [executor.submit(traducir_texto, texto[1]) for texto in textos_para_traducir]\n",
    "        for future, elem in zip(futures, textos_para_traducir):\n",
    "            elem[0].set('translated_text', future.result())\n",
    "    \n",
    "    file_name = os.path.splitext(os.path.basename(xml_path))[0] + \"-es.xml\"\n",
    "    output_file_path = os.path.join(output_folder, file_name)\n",
    "    tree.write(output_file_path, encoding=\"utf-8\", xml_declaration=True)\n",
    "    print(f\"Archivo traducido guardado en: {output_file_path}\")\n",
    "\n",
    "# Definir la ruta de entrada del archivo XML y la carpeta de salida\n",
    "xml_input_path = '/home/carol/code/cparran/MOJI/raw_data/ARMS/ARMS_lite.xml'\n",
    "output_folder = '/home/carol/code/cparran/MOJI/raw_data/output'\n",
    "\n",
    "# Ejecutar la función principal\n",
    "traducir_archivo_xml_concurrente(xml_input_path, output_folder)\n",
    "\n",
    "\n"
   ]
  },
  {
   "cell_type": "markdown",
   "metadata": {},
   "source": [
    "# Traduce y aplica criterio para seleccionar la mejor traducción"
   ]
  },
  {
   "cell_type": "code",
   "execution_count": 65,
   "metadata": {},
   "outputs": [
    {
     "name": "stderr",
     "output_type": "stream",
     "text": [
      "Some weights of BertForSequenceClassification were not initialized from the model checkpoint at bert-base-multilingual-cased and are newly initialized: ['classifier.bias', 'classifier.weight']\n",
      "You should probably TRAIN this model on a down-stream task to be able to use it for predictions and inference.\n"
     ]
    },
    {
     "name": "stdout",
     "output_type": "stream",
     "text": [
      "Archivo traducido guardado en: /home/carol/code/cparran/MOJI/raw_data/output/ARMS_lite-es.xml\n"
     ]
    }
   ],
   "source": [
    "from xml.etree import ElementTree as ET\n",
    "from deep_translator import GoogleTranslator, DeeplTranslator\n",
    "import os\n",
    "import html\n",
    "from dotenv import load_dotenv\n",
    "from concurrent.futures import ThreadPoolExecutor\n",
    "import re\n",
    "from transformers import DistilBertTokenizer, DistilBertForSequenceClassification\n",
    "from transformers import pipeline\n",
    "\n",
    "# Cargar las variables de entorno desde el archivo .env\n",
    "load_dotenv()\n",
    "\n",
    "# Obtener la clave API de DeepL desde las variables de entorno\n",
    "api_key = os.getenv(\"DEEPL_API_KEY\")\n",
    "\n",
    "# Inicializar el tokenizer y el modelo de BERT para la evaluación de coherencia\n",
    "tokenizer = BertTokenizer.from_pretrained('bert-base-multilingual-cased')\n",
    "model = BertForSequenceClassification.from_pretrained('bert-base-multilingual-cased')\n",
    "nlp = pipeline(\"sentiment-analysis\", model=model, tokenizer=tokenizer)\n",
    "\n",
    "def evaluar_coherencia(texto):\n",
    "    resultado = nlp(texto)\n",
    "    return resultado[0]['score']  # Ejemplo simplificado\n",
    "\n",
    "def seleccionar_mejor_traduccion(texto_original):\n",
    "    traducciones = [\n",
    "        html.unescape(GoogleTranslator(source='ja', target='es').translate(texto_original)),\n",
    "        html.unescape(DeeplTranslator(api_key=api_key, source=\"ja\", target=\"es\", use_free_api=True).translate(texto_original))\n",
    "    ]\n",
    "\n",
    "    puntuaciones = [evaluar_coherencia(traduccion) for traduccion in traducciones]\n",
    "    mejor_indice = puntuaciones.index(max(puntuaciones))\n",
    "\n",
    "    return traducciones[mejor_indice]\n",
    "\n",
    "def eliminar_explicaciones(texto):\n",
    "    texto_sin_explicaciones = re.sub(r'\\([^)]*\\)', '', texto)\n",
    "    return texto_sin_explicaciones.strip()\n",
    "\n",
    "def traducir_texto(texto):\n",
    "    if not texto:\n",
    "        return \"\"\n",
    "    \n",
    "    mejor_traduccion = seleccionar_mejor_traduccion(texto)\n",
    "    return eliminar_explicaciones(mejor_traduccion)\n",
    "\n",
    "def traducir_archivo_xml_concurrente(xml_path, output_folder):\n",
    "    tree = ET.parse(xml_path)\n",
    "    root = tree.getroot()\n",
    "\n",
    "    textos_para_traducir = [(elem, elem.text.strip()) for elem in root.findall('.//text') if elem.text and elem.text.strip()]\n",
    "    \n",
    "    with ThreadPoolExecutor(max_workers=20) as executor:\n",
    "        futures = [executor.submit(traducir_texto, texto[1]) for texto in textos_para_traducir]\n",
    "        for future, elem in zip(futures, textos_para_traducir):\n",
    "            elem[0].set('translated_text', future.result())\n",
    "    \n",
    "    file_name = os.path.splitext(os.path.basename(xml_path))[0] + \"-es.xml\"\n",
    "    output_file_path = os.path.join(output_folder, file_name)\n",
    "    tree.write(output_file_path, encoding=\"utf-8\", xml_declaration=True)\n",
    "    print(f\"Archivo traducido guardado en: {output_file_path}\")\n",
    "\n",
    "xml_input_path = '/home/carol/code/cparran/MOJI/raw_data/ARMS/ARMS_lite.xml'\n",
    "output_folder = '/home/carol/code/cparran/MOJI/raw_data/output'\n",
    "\n",
    "traducir_archivo_xml_concurrente(xml_input_path, output_folder)\n"
   ]
  }
 ],
 "metadata": {
  "kernelspec": {
   "display_name": "moji",
   "language": "python",
   "name": "python3"
  },
  "language_info": {
   "codemirror_mode": {
    "name": "ipython",
    "version": 3
   },
   "file_extension": ".py",
   "mimetype": "text/x-python",
   "name": "python",
   "nbconvert_exporter": "python",
   "pygments_lexer": "ipython3",
   "version": "3.10.6"
  }
 },
 "nbformat": 4,
 "nbformat_minor": 2
}
