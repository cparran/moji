{
 "cells": [
  {
   "cell_type": "markdown",
   "metadata": {},
   "source": [
    "# Traductor de texto japonés a español"
   ]
  },
  {
   "cell_type": "code",
   "execution_count": null,
   "metadata": {},
   "outputs": [],
   "source": [
    "# Install the transformers library from HuggingFace\n",
    "! pip install transformers torch pytesseract"
   ]
  },
  {
   "cell_type": "code",
   "execution_count": null,
   "metadata": {},
   "outputs": [],
   "source": [
    "# Install the sentencepiece and sacremoses libraries to tokenize the text\n",
    "! pip install sentencepiece sacremoses"
   ]
  },
  {
   "cell_type": "code",
   "execution_count": 4,
   "metadata": {},
   "outputs": [
    {
     "name": "stdout",
     "output_type": "stream",
     "text": [
      "Requirement already satisfied: python-dotenv in /home/carol/.pyenv/versions/3.10.6/envs/moji/lib/python3.10/site-packages (1.0.1)\n"
     ]
    }
   ],
   "source": [
    "! pip install python-dotenv"
   ]
  },
  {
   "cell_type": "code",
   "execution_count": 1,
   "metadata": {},
   "outputs": [
    {
     "name": "stdout",
     "output_type": "stream",
     "text": [
      "Requirement already satisfied: deep-translator in /home/carol/.pyenv/versions/3.10.6/envs/moji/lib/python3.10/site-packages (1.11.4)\n",
      "Requirement already satisfied: beautifulsoup4<5.0.0,>=4.9.1 in /home/carol/.pyenv/versions/3.10.6/envs/moji/lib/python3.10/site-packages (from deep-translator) (4.12.3)\n",
      "Requirement already satisfied: requests<3.0.0,>=2.23.0 in /home/carol/.pyenv/versions/3.10.6/envs/moji/lib/python3.10/site-packages (from deep-translator) (2.31.0)\n",
      "Requirement already satisfied: soupsieve>1.2 in /home/carol/.pyenv/versions/3.10.6/envs/moji/lib/python3.10/site-packages (from beautifulsoup4<5.0.0,>=4.9.1->deep-translator) (2.5)\n",
      "Requirement already satisfied: charset-normalizer<4,>=2 in /home/carol/.pyenv/versions/3.10.6/envs/moji/lib/python3.10/site-packages (from requests<3.0.0,>=2.23.0->deep-translator) (3.3.2)\n",
      "Requirement already satisfied: idna<4,>=2.5 in /home/carol/.pyenv/versions/3.10.6/envs/moji/lib/python3.10/site-packages (from requests<3.0.0,>=2.23.0->deep-translator) (2.10)\n",
      "Requirement already satisfied: urllib3<3,>=1.21.1 in /home/carol/.pyenv/versions/3.10.6/envs/moji/lib/python3.10/site-packages (from requests<3.0.0,>=2.23.0->deep-translator) (1.26.18)\n",
      "Requirement already satisfied: certifi>=2017.4.17 in /home/carol/.pyenv/versions/3.10.6/envs/moji/lib/python3.10/site-packages (from requests<3.0.0,>=2.23.0->deep-translator) (2023.7.22)\n"
     ]
    }
   ],
   "source": [
    "# Install deep-translator to translate the text\n",
    "! pip install deep-translator"
   ]
  },
  {
   "cell_type": "markdown",
   "metadata": {},
   "source": [
    "# Google translate"
   ]
  },
  {
   "cell_type": "code",
   "execution_count": 16,
   "metadata": {},
   "outputs": [
    {
     "name": "stdout",
     "output_type": "stream",
     "text": [
      "Archivo traducido guardado en: /home/carol/code/cparran/MOJI/raw_data/output/ARMS_lite-es(GT).xml\n"
     ]
    }
   ],
   "source": [
    "from xml.etree import ElementTree as ET\n",
    "from deep_translator import GoogleTranslator\n",
    "import os\n",
    "import html\n",
    "from dotenv import load_dotenv\n",
    "from concurrent.futures import ThreadPoolExecutor\n",
    "import re\n",
    "\n",
    "# Cargar las variables de entorno desde el archivo .env\n",
    "load_dotenv()\n",
    "\n",
    "# Obtener la clave API de Google Translator desde las variables de entorno\n",
    "google_api_key = os.getenv(\"GOOGLE_TRANSLATE_API_KEY\")\n",
    "\n",
    "# Asume que esta función se define en tu entorno con la clave API configurada\n",
    "google_api_key = google_api_key  # Asegúrate de manejar tus claves API de manera segura\n",
    "traductor = GoogleTranslator(api_key=google_api_key, source='ja', target='es')\n",
    "\n",
    "def eliminar_explicaciones(texto):\n",
    "    # Eliminar texto dentro de paréntesis, incluyendo los paréntesis mismos\n",
    "    texto_sin_explicaciones = re.sub(r'\\([^)]*\\)', '', texto)\n",
    "    # Agregar más reglas de limpieza aquí si es necesario\n",
    "    return texto_sin_explicaciones.strip()\n",
    "\n",
    "def traducir_texto(texto):\n",
    "    if texto:\n",
    "        traduccion = traductor.translate(texto)\n",
    "        traduccion_limpia = html.unescape(traduccion)\n",
    "        traduccion_final = eliminar_explicaciones(traduccion_limpia)\n",
    "        return traduccion_final\n",
    "    return \"\"\n",
    "\n",
    "def traducir_archivo_xml_concurrente(xml_path, output_folder):\n",
    "    tree = ET.parse(xml_path)\n",
    "    root = tree.getroot()\n",
    "\n",
    "    textos_para_traducir = [(elem, elem.text.strip()) for elem in root.findall('.//text') if elem.text and elem.text.strip()]\n",
    "    \n",
    "    with ThreadPoolExecutor(max_workers=20) as executor:\n",
    "        for elem, traduccion in zip(textos_para_traducir, executor.map(lambda x: traducir_texto(x[1]), textos_para_traducir)):\n",
    "            elem[0].set('translated_text', traduccion)\n",
    "    \n",
    "    file_name = os.path.splitext(os.path.basename(xml_path))[0] + \"-es(GT).xml\"\n",
    "    output_file_path = os.path.join(output_folder, file_name)\n",
    "    tree.write(output_file_path, encoding=\"utf-8\", xml_declaration=True)\n",
    "    print(f\"Archivo traducido guardado en: {output_file_path}\")\n",
    "\n",
    "xml_input_path = '/home/carol/code/cparran/MOJI/raw_data/ARMS/ARMS_lite.xml'\n",
    "output_folder = '/home/carol/code/cparran/MOJI/raw_data/output'\n",
    "traducir_archivo_xml_concurrente(xml_input_path, output_folder)"
   ]
  },
  {
   "cell_type": "markdown",
   "metadata": {},
   "source": [
    "Llama a la función definida en \"traductor_xml.py\", esta usa Google Translator"
   ]
  },
  {
   "cell_type": "code",
   "execution_count": 25,
   "metadata": {},
   "outputs": [
    {
     "name": "stdout",
     "output_type": "stream",
     "text": [
      "Archivo traducido guardado como: ARMS_lite-es.xml\n"
     ]
    }
   ],
   "source": [
    "import sys\n",
    "sys.path.append('/home/carol/code/cparran/MOJI/')\n",
    "from moji.traductor_xml import traducir_archivo_xml\n",
    "xml_input_path = '/home/carol/code/cparran/MOJI/raw_data/ARMS/ARMS_lite.xml'\n",
    "traducir_archivo_xml(xml_input_path)            # aloja el archivo traducido en la carpeta donde se aloja la notebook, se puede modificar."
   ]
  },
  {
   "cell_type": "markdown",
   "metadata": {},
   "source": [
    "# Deepl Translator\n",
    "\n",
    "Es más confiable"
   ]
  },
  {
   "cell_type": "markdown",
   "metadata": {},
   "source": [
    "# DeepL Translator (más rápido)"
   ]
  },
  {
   "cell_type": "code",
   "execution_count": 14,
   "metadata": {},
   "outputs": [
    {
     "name": "stdout",
     "output_type": "stream",
     "text": [
      "Archivo traducido guardado en: /home/carol/code/cparran/MOJI/raw_data/output/ARMS_lite-es(DL).xml\n"
     ]
    }
   ],
   "source": [
    "from xml.etree import ElementTree as ET\n",
    "from deep_translator import DeeplTranslator\n",
    "import os\n",
    "import html\n",
    "from dotenv import load_dotenv\n",
    "from concurrent.futures import ThreadPoolExecutor\n",
    "import re\n",
    "\n",
    "# Cargar las variables de entorno desde el archivo .env\n",
    "load_dotenv()\n",
    "\n",
    "# Obtener la clave API de DeepL desde las variables de entorno\n",
    "api_key = os.getenv(\"DEEPL_API_KEY\")\n",
    "\n",
    "# Asume que esta función se define en tu entorno con la clave API configurada\n",
    "api_key = api_key  # Asegúrate de manejar tus claves API de manera segura\n",
    "traductor = DeeplTranslator(api_key=api_key, source=\"ja\", target=\"es\", use_free_api=True)\n",
    "\n",
    "def eliminar_explicaciones(texto):\n",
    "    # Eliminar texto dentro de paréntesis, incluyendo los paréntesis mismos\n",
    "    texto_sin_explicaciones = re.sub(r'\\([^)]*\\)', '', texto)\n",
    "    # Agregar más reglas de limpieza aquí si es necesario\n",
    "    return texto_sin_explicaciones.strip()\n",
    "\n",
    "def traducir_texto(texto):\n",
    "    if texto:\n",
    "        traduccion = traductor.translate(texto)\n",
    "        traduccion_limpia = html.unescape(traduccion)\n",
    "        traduccion_final = eliminar_explicaciones(traduccion_limpia)\n",
    "        return traduccion_final\n",
    "    return \"\"\n",
    "\n",
    "def traducir_archivo_xml_concurrente(xml_path, output_folder):\n",
    "    tree = ET.parse(xml_path)\n",
    "    root = tree.getroot()\n",
    "\n",
    "    textos_para_traducir = [(elem, elem.text.strip()) for elem in root.findall('.//text') if elem.text and elem.text.strip()]\n",
    "    \n",
    "    with ThreadPoolExecutor(max_workers=20) as executor:\n",
    "        for elem, traduccion in zip(textos_para_traducir, executor.map(lambda x: traducir_texto(x[1]), textos_para_traducir)):\n",
    "            elem[0].set('translated_text', traduccion)\n",
    "    \n",
    "    file_name = os.path.splitext(os.path.basename(xml_path))[0] + \"-es(DL).xml\"\n",
    "    output_file_path = os.path.join(output_folder, file_name)\n",
    "    tree.write(output_file_path, encoding=\"utf-8\", xml_declaration=True)\n",
    "    print(f\"Archivo traducido guardado en: {output_file_path}\")\n",
    "\n",
    "xml_input_path = '/home/carol/code/cparran/MOJI/raw_data/ARMS/ARMS_lite.xml'\n",
    "output_folder = '/home/carol/code/cparran/MOJI/raw_data/output'\n",
    "traducir_archivo_xml_concurrente(xml_input_path, output_folder)\n"
   ]
  },
  {
   "cell_type": "markdown",
   "metadata": {},
   "source": [
    "# OPEN AI Translator"
   ]
  },
  {
   "cell_type": "code",
   "execution_count": 59,
   "metadata": {},
   "outputs": [
    {
     "name": "stdout",
     "output_type": "stream",
     "text": [
      "Collecting deep-translator==1.9.0\n",
      "  Downloading deep_translator-1.9.0-py3-none-any.whl.metadata (25 kB)\n",
      "Requirement already satisfied: beautifulsoup4<5.0.0,>=4.9.1 in /home/carol/.pyenv/versions/3.10.6/envs/moji/lib/python3.10/site-packages (from deep-translator==1.9.0) (4.12.3)\n",
      "Requirement already satisfied: requests<3.0.0,>=2.23.0 in /home/carol/.pyenv/versions/3.10.6/envs/moji/lib/python3.10/site-packages (from deep-translator==1.9.0) (2.31.0)\n",
      "Requirement already satisfied: soupsieve>1.2 in /home/carol/.pyenv/versions/3.10.6/envs/moji/lib/python3.10/site-packages (from beautifulsoup4<5.0.0,>=4.9.1->deep-translator==1.9.0) (2.5)\n",
      "Requirement already satisfied: charset-normalizer<4,>=2 in /home/carol/.pyenv/versions/3.10.6/envs/moji/lib/python3.10/site-packages (from requests<3.0.0,>=2.23.0->deep-translator==1.9.0) (3.3.2)\n",
      "Requirement already satisfied: idna<4,>=2.5 in /home/carol/.pyenv/versions/3.10.6/envs/moji/lib/python3.10/site-packages (from requests<3.0.0,>=2.23.0->deep-translator==1.9.0) (2.10)\n",
      "Requirement already satisfied: urllib3<3,>=1.21.1 in /home/carol/.pyenv/versions/3.10.6/envs/moji/lib/python3.10/site-packages (from requests<3.0.0,>=2.23.0->deep-translator==1.9.0) (1.26.18)\n",
      "Requirement already satisfied: certifi>=2017.4.17 in /home/carol/.pyenv/versions/3.10.6/envs/moji/lib/python3.10/site-packages (from requests<3.0.0,>=2.23.0->deep-translator==1.9.0) (2023.7.22)\n",
      "Downloading deep_translator-1.9.0-py3-none-any.whl (29 kB)\n",
      "Installing collected packages: deep-translator\n",
      "  Attempting uninstall: deep-translator\n",
      "    Found existing installation: deep-translator 1.11.4\n",
      "    Uninstalling deep-translator-1.11.4:\n",
      "      Successfully uninstalled deep-translator-1.11.4\n",
      "Successfully installed deep-translator-1.9.0\n"
     ]
    }
   ],
   "source": [
    "#! pip install openai==0.27.0\n",
    "! pip install deep-translator==1.9.0"
   ]
  },
  {
   "cell_type": "code",
   "execution_count": 26,
   "metadata": {},
   "outputs": [
    {
     "name": "stdout",
     "output_type": "stream",
     "text": [
      "Archivo traducido guardado en: /home/carol/code/cparran/MOJI/raw_data/output/ARMS_lite-es(GPT).xml\n"
     ]
    }
   ],
   "source": [
    "import openai\n",
    "import os\n",
    "from dotenv import load_dotenv\n",
    "import html\n",
    "from concurrent.futures import ThreadPoolExecutor\n",
    "import re\n",
    "from xml.etree import ElementTree as ET\n",
    "\n",
    "# Cargar las variables de entorno desde el archivo .env\n",
    "load_dotenv()\n",
    "\n",
    "# Obtener la clave API de OpenAI desde las variables de entorno\n",
    "openai_api_key = os.getenv(\"OPENAI_API_KEY\")\n",
    "\n",
    "# Configurar la API de OpenAI\n",
    "openai.api_key = openai_api_key\n",
    "\n",
    "def eliminar_explicaciones(texto):\n",
    "    # Eliminar texto dentro de paréntesis, incluyendo los paréntesis mismos\n",
    "    texto_sin_explicaciones = re.sub(r'\\([^)]*\\)', '', texto)\n",
    "    return texto_sin_explicaciones.strip()\n",
    "\n",
    "def traducir_texto(texto):\n",
    "    if not texto:\n",
    "        return \"\"\n",
    "\n",
    "    # Traducción con GPT-3.5 Turbo (modelo de chat)\n",
    "    traduccion = openai.ChatCompletion.create(\n",
    "        model=\"gpt-3.5-turbo\",\n",
    "        messages=[\n",
    "            {\"role\": \"system\", \"content\": \"You are a helpful assistant.\"},\n",
    "            {\"role\": \"user\", \"content\": f\" Traduce el siguiente diálogo de japonés a español. Evita proporcionar definiciones o explicaciones innecesarias. Concéntrate en ofrecer traducciones precisas y naturales :\\n\\n{texto}\"}\n",
    "        ]\n",
    "    )['choices'][0]['message']['content']\n",
    "    \n",
    "    traduccion_limpia = html.unescape(traduccion)\n",
    "    \n",
    "    return eliminar_explicaciones(traduccion_limpia)\n",
    "\n",
    "def traducir_archivo_xml_concurrente(xml_path, output_folder):\n",
    "    tree = ET.parse(xml_path)\n",
    "    root = tree.getroot()\n",
    "\n",
    "    textos_para_traducir = [(elem, elem.text.strip()) for elem in root.findall('.//text') if elem.text and elem.text.strip()]\n",
    "    \n",
    "    with ThreadPoolExecutor(max_workers=20) as executor:\n",
    "        for elem, traduccion in zip(textos_para_traducir, executor.map(lambda x: traducir_texto(x[1]), textos_para_traducir)):\n",
    "            elem[0].set('translated_text', traduccion)\n",
    "    \n",
    "    file_name = os.path.splitext(os.path.basename(xml_path))[0] + \"-es(GPT).xml\"\n",
    "    output_file_path = os.path.join(output_folder, file_name)\n",
    "    tree.write(output_file_path, encoding=\"utf-8\", xml_declaration=True)\n",
    "    print(f\"Archivo traducido guardado en: {output_file_path}\")\n",
    "\n",
    "xml_input_path = '/home/carol/code/cparran/MOJI/raw_data/ARMS/ARMS_lite.xml'\n",
    "output_folder = '/home/carol/code/cparran/MOJI/raw_data/output'\n",
    "traducir_archivo_xml_concurrente(xml_input_path, output_folder)\n"
   ]
  }
 ],
 "metadata": {
  "kernelspec": {
   "display_name": "moji",
   "language": "python",
   "name": "python3"
  },
  "language_info": {
   "codemirror_mode": {
    "name": "ipython",
    "version": 3
   },
   "file_extension": ".py",
   "mimetype": "text/x-python",
   "name": "python",
   "nbconvert_exporter": "python",
   "pygments_lexer": "ipython3",
   "version": "3.10.6"
  }
 },
 "nbformat": 4,
 "nbformat_minor": 2
}
