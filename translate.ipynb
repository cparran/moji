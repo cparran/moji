{
 "cells": [
  {
   "cell_type": "code",
   "execution_count": null,
   "metadata": {
    "tags": [
     "parameters"
    ]
   },
   "outputs": [],
   "source": [
    "# Traductor de texto japonés a español"
   ]
  },
  {
   "cell_type": "code",
   "execution_count": null,
   "metadata": {},
   "outputs": [],
   "source": [
    "# Install the transformers library from HuggingFace\n",
    "#! pip install transformers torch pytesseract"
   ]
  },
  {
   "cell_type": "code",
   "execution_count": null,
   "metadata": {},
   "outputs": [],
   "source": [
    "# Install the sentencepiece and sacremoses libraries to tokenize the text\n",
    "#! pip install sentencepiece sacremoses"
   ]
  },
  {
   "cell_type": "code",
   "execution_count": 2,
   "metadata": {},
   "outputs": [
    {
     "name": "stdout",
     "output_type": "stream",
     "text": [
      "Collecting deep-translator\n",
      "  Downloading deep_translator-1.11.4-py3-none-any.whl.metadata (30 kB)\n",
      "Requirement already satisfied: beautifulsoup4<5.0.0,>=4.9.1 in /home/carol/.pyenv/versions/3.10.6/envs/moji/lib/python3.10/site-packages (from deep-translator) (4.12.3)\n",
      "Requirement already satisfied: requests<3.0.0,>=2.23.0 in /home/carol/.pyenv/versions/3.10.6/envs/moji/lib/python3.10/site-packages (from deep-translator) (2.31.0)\n",
      "Requirement already satisfied: soupsieve>1.2 in /home/carol/.pyenv/versions/3.10.6/envs/moji/lib/python3.10/site-packages (from beautifulsoup4<5.0.0,>=4.9.1->deep-translator) (2.5)\n",
      "Requirement already satisfied: charset-normalizer<4,>=2 in /home/carol/.pyenv/versions/3.10.6/envs/moji/lib/python3.10/site-packages (from requests<3.0.0,>=2.23.0->deep-translator) (3.3.2)\n",
      "Requirement already satisfied: idna<4,>=2.5 in /home/carol/.pyenv/versions/3.10.6/envs/moji/lib/python3.10/site-packages (from requests<3.0.0,>=2.23.0->deep-translator) (3.6)\n",
      "Requirement already satisfied: urllib3<3,>=1.21.1 in /home/carol/.pyenv/versions/3.10.6/envs/moji/lib/python3.10/site-packages (from requests<3.0.0,>=2.23.0->deep-translator) (2.2.1)\n",
      "Requirement already satisfied: certifi>=2017.4.17 in /home/carol/.pyenv/versions/3.10.6/envs/moji/lib/python3.10/site-packages (from requests<3.0.0,>=2.23.0->deep-translator) (2024.2.2)\n",
      "Downloading deep_translator-1.11.4-py3-none-any.whl (42 kB)\n",
      "\u001b[2K   \u001b[90m━━━━━━━━━━━━━━━━━━━━━━━━━━━━━━━━━━━━━━━━\u001b[0m \u001b[32m42.3/42.3 kB\u001b[0m \u001b[31m56.0 kB/s\u001b[0m eta \u001b[36m0:00:00\u001b[0m \u001b[36m0:00:01\u001b[0m\n",
      "\u001b[?25hInstalling collected packages: deep-translator\n",
      "Successfully installed deep-translator-1.11.4\n"
     ]
    }
   ],
   "source": [
    "# Install deep-translator to translate the text\n",
    "# ! pip install deep-translator"
   ]
  },
  {
   "cell_type": "code",
   "execution_count": 15,
   "metadata": {},
   "outputs": [],
   "source": [
    "from xml.etree import ElementTree as ET\n",
    "from deep_translator import GoogleTranslator\n",
    "import os\n",
    "import html  # Importa la biblioteca html\n",
    "\n",
    "# Inicializa el traductor de Google del japonés al español\n",
    "traductor = GoogleTranslator(source='ja', target='es')\n",
    "\n",
    "# Cargar el archivo XML\n",
    "xml_path = 'data/Manga109s_released_2023_12_07/annotations/ARMS.xml'  # Asegúrate de especificar la ruta correcta al archivo XML\n",
    "tree = ET.parse(xml_path)\n",
    "root = tree.getroot()\n",
    "\n",
    "# Obtener el nombre del archivo original sin la extensión\n",
    "file_name = os.path.splitext(os.path.basename(xml_path))[0]\n",
    "\n",
    "# Iterar sobre cada elemento 'text'\n",
    "for text_element in root.findall('.//text'):\n",
    "    # Extraer el texto japonés\n",
    "    japanese_text = text_element.text.strip()\n",
    "    \n",
    "    # Verificar que el texto no esté vacío antes de traducir\n",
    "    if japanese_text:\n",
    "        # Traduce el texto extraído al español\n",
    "        translated_text = traductor.translate(japanese_text)\n",
    "        \n",
    "        # Verifica que translated_text no sea None antes de decodificar las entidades HTML\n",
    "        if translated_text:\n",
    "            # Decodificar las entidades HTML a caracteres normales\n",
    "            translated_text = html.unescape(translated_text)\n",
    "        else:\n",
    "            # Manejar el caso en que translated_text es None\n",
    "            # Por ejemplo, puedes optar por dejar el texto original o aplicar una etiqueta predeterminada\n",
    "            translated_text = \"Texto no disponible\"\n",
    "        \n",
    "        # Opción 1: Agregar el texto traducido como un nuevo atributo\n",
    "        text_element.set('translated_text', translated_text)\n",
    "        \n",
    "        # Opción 2 (Alternativa): Crear y agregar un nuevo elemento hijo con el texto traducido\n",
    "        # Si prefieres esta opción, descomenta las siguientes dos líneas:\n",
    "        # new_element = ET.SubElement(text_element, \"translatedText\")\n",
    "        # new_element.text = translated_text\n",
    "\n",
    "# Generar el nombre del archivo de salida con el sufijo \"-es\"\n",
    "output_file_name = f\"{file_name}-es.xml\"\n",
    "\n",
    "# Guardar el archivo XML modificado, asegurándose de usar utf-8 como la codificación\n",
    "tree.write(output_file_name, encoding=\"utf-8\", xml_declaration=True)"
   ]
  },
  {
   "cell_type": "code",
   "execution_count": 23,
   "metadata": {},
   "outputs": [
    {
     "name": "stdout",
     "output_type": "stream",
     "text": [
      "Archivo traducido guardado como: ARMS-es.xml\n"
     ]
    }
   ],
   "source": [
    "# LLama a la función traducir_archivo_xml\n",
    "\n",
    "from traductor_xml import traducir_archivo_xml\n",
    "\n",
    "xml_input_path = 'data/Manga109s_released_2023_12_07/annotations/ARMS.xml'\n",
    "traducir_archivo_xml(xml_input_path)"
   ]
  }
 ],
 "metadata": {
  "kernelspec": {
   "display_name": "moji",
   "language": "python",
   "name": "python3"
  },
  "language_info": {
   "codemirror_mode": {
    "name": "ipython",
    "version": 3
   },
   "file_extension": ".py",
   "mimetype": "text/x-python",
   "name": "python",
   "nbconvert_exporter": "python",
   "pygments_lexer": "ipython3",
   "version": "3.10.6"
  }
 },
 "nbformat": 4,
 "nbformat_minor": 2
}
